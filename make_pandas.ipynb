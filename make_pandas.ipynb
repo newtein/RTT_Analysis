{
 "cells": [
  {
   "cell_type": "code",
   "execution_count": 4,
   "metadata": {
    "collapsed": true
   },
   "outputs": [],
   "source": [
    "import pandas as pd\n",
    "import pickle"
   ]
  },
  {
   "cell_type": "code",
   "execution_count": 5,
   "metadata": {
    "collapsed": true
   },
   "outputs": [],
   "source": [
    "picklename=[1,2,3,4,5,6]\n",
    "filename=[\"00-04\",\"04-08\",\"08-12\",\"12-16\",\"16-20\",\"20-00\"]\n",
    "\n",
    "datamap={\"scantime\":0,\"state\":1,\"reason\":2,\"reason_ttl\":3,\"hname\":4,\"uptime\":5,\"lastboot\":6,\"fport\":7,\"hopnum\":8,\"index\":9,\"diff\":10,\"ipidclass\":11,\"tsclass\":12,\"srtt\":13,\"rttvar\":14,\"to\":15,\"port\":16,\"proto\":17,\"rtt\":18}\n",
    "datamaprev={}\n",
    "for key in datamap:\n",
    "    datamaprev[datamap[key]]=key"
   ]
  },
  {
   "cell_type": "code",
   "execution_count": 6,
   "metadata": {
    "collapsed": true
   },
   "outputs": [],
   "source": [
    "def create_resultset(result,ipv4,fname,data):\n",
    "    if fname not in result:\n",
    "        result[fname]={}\n",
    "    if ipv4 not in result[fname]:\n",
    "        result[fname][ipv4]=[]\n",
    "    result[fname][ipv4]=data\n",
    "    return result"
   ]
  },
  {
   "cell_type": "code",
   "execution_count": 2,
   "metadata": {
    "collapsed": true
   },
   "outputs": [],
   "source": [
    "def filter_by(flag,filterant=False,value=False,ip=False,opr=False): \n",
    "    if filterant!=False:\n",
    "        parameter=datamap[filterant]  \n",
    "    result={}\n",
    "    for fname,alias in zip(filename,picklename):\n",
    "        data=pickle.load(open(\"Pickles/\"+str(alias)+\".pickle\",\"rb\"))\n",
    "        for ipv4 in data:\n",
    "            if ip!=False:\n",
    "                if type(ip) is list:\n",
    "                    if ipv4 in ip:\n",
    "                         create_resultset(result,ipv4,fname,data[ipv4])\n",
    "                \n",
    "                elif ipv4==ip:\n",
    "                    print(ipv4,fname,data[ipv4])\n",
    "                    \n",
    "            elif opr!=False:\n",
    "                 if opr==\"!=\":\n",
    "                    if data[ipv4][parameter]!=None:\n",
    "                        if data[ipv4][parameter]!=value:\n",
    "                            #print(ipv4,fname,data[ipv4])\n",
    "                            #data[ipv4][parameter]=int(data[ipv4][parameter])\n",
    "                            create_resultset(result,ipv4,fname,data[ipv4])\n",
    "                        \n",
    "            else:\n",
    "                if data[ipv4][parameter]!=None:\n",
    "                    if data[ipv4][parameter]==value:\n",
    "                        print(ipv4,fname,data[ipv4])\n",
    "                        create_resultset(result,ipv4,fname,data[ipv4])\n",
    "                        \n",
    "                elif value==None:\n",
    "                    if data[ipv4][parameter]==None:\n",
    "                        print(ipv4,fname,data[ipv4])\n",
    "                        create_resultset(result,ipv4,fname,data[ipv4])\n",
    "                    \n",
    "    return result"
   ]
  },
  {
   "cell_type": "code",
   "execution_count": 7,
   "metadata": {
    "scrolled": true
   },
   "outputs": [
    {
     "name": "stdout",
     "output_type": "stream",
     "text": [
      "172.16.68.14 00-04 [1423000, 'up', 'echo-reply', 127.0, 'oracle.pdc.jiit', None, None, None, 2, 256, 'Good luck!', 'Incremental', 'zero timestamp', 43288.0, 44260.0, 220328.0, '21', 'tcp', 170.89]\n",
      "172.16.68.14 04-08 [867000, 'up', 'echo-reply', 127.0, 'oracle.pdc.jiit', None, None, None, 2, 251, 'Good luck!', 'Incremental', 'zero timestamp', 3190.0, 1646.0, 100000.0, '1720', 'tcp', 4.63]\n",
      "172.16.68.14 08-12 [1031000, 'up', 'echo-reply', 127.0, 'oracle.pdc.jiit', None, None, None, 2, 255, 'Good luck!', 'Incremental', 'zero timestamp', 13485.0, 19058.0, 100000.0, '113', 'tcp', 75.29]\n",
      "172.16.68.14 12-16 [1082000, 'up', 'echo-reply', 127.0, 'oracle.pdc.jiit', None, None, None, 2, 260, 'Good luck!', 'Incremental', 'zero timestamp', 2209.0, 1507.0, 100000.0, '3389', 'tcp', 1.9900000000000002]\n",
      "172.16.68.14 16-20 [915000, 'up', 'echo-reply', 127.0, 'oracle.pdc.jiit', None, None, None, 2, 260, 'Good luck!', 'Incremental', 'zero timestamp', 24377.0, 20576.0, 106681.0, '587', 'tcp', 22.63]\n",
      "172.16.68.14 20-00 [800000, 'up', 'echo-reply', 127.0, 'oracle.pdc.jiit', None, None, None, 2, 251, 'Good luck!', 'Incremental', 'zero timestamp', 1992.0, 1338.0, 100000.0, '111', 'tcp', 7.48]\n"
     ]
    },
    {
     "data": {
      "text/plain": [
       "{}"
      ]
     },
     "execution_count": 7,
     "metadata": {},
     "output_type": "execute_result"
    }
   ],
   "source": [
    "# filter_by(0,filterant=\"uptime\",value=10000000)\n",
    "# print(\"\\n\\n\\n\\n\\n\")\n",
    "# filter_by(0,filterant=\"reason\",value=\"echo-reply\",ip=\"172.16.68.14\")\n",
    "filter_by(0,ip=\"172.16.68.14\")"
   ]
  },
  {
   "cell_type": "code",
   "execution_count": 76,
   "metadata": {
    "collapsed": true,
    "scrolled": true
   },
   "outputs": [],
   "source": [
    "result=filter_by(0,filterant=\"index\",value=None,opr=\"!=\")"
   ]
  },
  {
   "cell_type": "code",
   "execution_count": 86,
   "metadata": {
    "collapsed": true
   },
   "outputs": [],
   "source": [
    "for p,fname in zip(picklename,filename): \n",
    "    pickle.dump(result[fname],open(\"Pickles/IndexNotNull/\"+str(p)+\".pickle\",\"wb\"))"
   ]
  },
  {
   "cell_type": "code",
   "execution_count": 90,
   "metadata": {
    "collapsed": true
   },
   "outputs": [],
   "source": [
    "result=filter_by(0,filterant=\"fport\",value=None,opr=\"!=\")\n",
    "for p,fname in zip(picklename,filename): \n",
    "    pickle.dump(result[fname],open(\"Pickles/FportNotNull/\"+str(p)+\".pickle\",\"wb\"))"
   ]
  },
  {
   "cell_type": "code",
   "execution_count": 93,
   "metadata": {
    "collapsed": true
   },
   "outputs": [],
   "source": [
    "result=filter_by(0,filterant=\"proto\",value=\"tcp\",opr=\"!=\")\n",
    "for p,fname in zip(picklename,filename): \n",
    "    pickle.dump(result[fname],open(\"Pickles/ProtoICMP/\"+str(p)+\".pickle\",\"wb\"))"
   ]
  },
  {
   "cell_type": "code",
   "execution_count": 99,
   "metadata": {
    "scrolled": true
   },
   "outputs": [
    {
     "name": "stdout",
     "output_type": "stream",
     "text": [
      "172.16.68.21 00-04 [1270, 'up', 'echo-reply', 63.0, None, None, None, '1000', 2, None, None, None, None, 39108.0, 43675.0, 213808.0, None, 'icmp', 162.94]\n",
      "172.16.68.21 04-08 [667, 'up', 'echo-reply', 63.0, None, None, None, '1000', 2, None, None, None, None, 4708.0, 3948.0, 100000.0, None, 'icmp', 5.8]\n",
      "172.16.68.21 08-12 [891, 'up', 'echo-reply', 63.0, None, None, None, '1000', 2, None, None, None, None, 5979.0, 4029.0, 100000.0, None, 'icmp', 13.190000000000001]\n",
      "172.16.68.21 12-16 [914, 'up', 'echo-reply', 63.0, None, None, None, '1000', 2, None, None, None, None, 6047.0, 5408.0, 100000.0, None, 'icmp', 4.42]\n",
      "172.16.68.21 16-20 [772, 'up', 'echo-reply', 63.0, None, None, None, '1000', 2, None, None, None, None, 13442.0, 12034.0, 100000.0, None, 'icmp', 8.23]\n",
      "172.16.68.21 20-00 [704, 'up', 'echo-reply', 63.0, None, None, None, '1000', 2, None, None, None, None, 7687.0, 7917.0, 100000.0, None, 'icmp', 5.15]\n",
      "\n",
      "\n",
      "\n",
      "\n",
      "\n",
      "\n",
      "172.16.68.22 00-04 [1270, 'up', 'echo-reply', 63.0, None, None, None, '1000', 2, None, None, None, None, 40855.0, 40857.0, 204283.0, None, 'icmp', 162.89999999999998]\n",
      "172.16.68.22 04-08 [667, 'up', 'echo-reply', 63.0, None, None, None, '1000', 2, None, None, None, None, 4315.0, 3222.0, 100000.0, None, 'icmp', 6.63]\n",
      "172.16.68.22 08-12 [891, 'up', 'echo-reply', 63.0, None, None, None, '1000', 2, None, None, None, None, 5946.0, 3896.0, 100000.0, None, 'icmp', 12.74]\n",
      "172.16.68.22 12-16 [914, 'up', 'echo-reply', 63.0, None, None, None, '1000', 2, None, None, None, None, 7180.0, 6049.0, 100000.0, None, 'icmp', 4.57]\n",
      "172.16.68.22 16-20 [772, 'up', 'echo-reply', 63.0, None, None, None, '1000', 2, None, None, None, None, 13844.0, 11160.0, 100000.0, None, 'icmp', 11.64]\n",
      "172.16.68.22 20-00 [704, 'up', 'echo-reply', 63.0, None, None, None, '1000', 2, None, None, None, None, 4197.0, 3046.0, 100000.0, None, 'icmp', 6.640000000000001]\n"
     ]
    },
    {
     "data": {
      "text/plain": [
       "{}"
      ]
     },
     "execution_count": 99,
     "metadata": {},
     "output_type": "execute_result"
    }
   ],
   "source": [
    "# ICMP Check\n",
    "filter_by(0,filterant=\"proto\",value=\"icmp\",ip=\"172.16.68.21\")\n",
    "print(\"\\n\\n\\n\\n\\n\")\n",
    "filter_by(0,filterant=\"proto\",value=\"icmp\",ip=\"172.16.68.22\")"
   ]
  },
  {
   "cell_type": "code",
   "execution_count": 100,
   "metadata": {
    "collapsed": true
   },
   "outputs": [],
   "source": [
    "result=filter_by(0,filterant=\"proto\",value=\"icmp\",opr=\"!=\")\n",
    "for p,fname in zip(picklename,filename): \n",
    "    pickle.dump(result[fname],open(\"Pickles/ProtoTCP/\"+str(p)+\".pickle\",\"wb\"))"
   ]
  },
  {
   "cell_type": "code",
   "execution_count": 102,
   "metadata": {
    "scrolled": true
   },
   "outputs": [
    {
     "name": "stdout",
     "output_type": "stream",
     "text": [
      "172.16.68.10 00-04 [1423, 'up', 'echo-reply', 127.0, None, 6453662, 'Mon Aug 21 14:27:20 2017', None, 2, 263, 'Good luck!', 'Busy server or unknown class', '100HZ', 49183.0, 57839.0, 280539.0, '21', 'tcp', 221.72000000000003]\n",
      "172.16.68.30 00-04 [1423, 'up', 'echo-reply', 127.0, 'fileserver2.pdc.jiit', 2738265, 'Tue Oct  3 14:30:37 2017', None, 2, 256, 'Good luck!', 'Busy server or unknown class', '100HZ', 69374.0, 38386.0, 222918.0, '21', 'tcp', 65.44]\n",
      "172.16.68.5 04-08 [867, 'up', 'echo-reply', 127.0, 'symantec.pdc.jiit', None, None, None, 2, 254, 'Good luck!', 'Busy server or unknown class', 'zero timestamp', 3005.0, 2280.0, 100000.0, '1720', 'tcp', 11.88]\n",
      "172.16.68.10 04-08 [867, 'up', 'echo-reply', 127.0, None, 6463176, 'Mon Aug 21 14:27:19 2017', None, 2, 248, 'Good luck!', 'Busy server or unknown class', '100HZ', 4228.0, 3917.0, 100000.0, '1720', 'tcp', 11.84]\n",
      "172.16.68.5 08-12 [1031, 'up', 'echo-reply', 127.0, 'symantec.pdc.jiit', None, None, None, 2, 250, 'Good luck!', 'Busy server or unknown class', 'zero timestamp', 3910.0, 2334.0, 100000.0, '113', 'tcp', 8.57]\n",
      "172.16.68.10 08-12 [1031, 'up', 'echo-reply', 127.0, None, 6477546, 'Mon Aug 21 14:27:19 2017', None, 2, 253, 'Good luck!', 'Busy server or unknown class', '100HZ', 5510.0, 4564.0, 100000.0, '113', 'tcp', 19.29]\n",
      "172.16.68.30 08-12 [1031, 'up', 'echo-reply', 127.0, 'fileserver2.pdc.jiit', 2762149, 'Tue Oct  3 14:30:36 2017', None, 2, 251, 'Good luck!', 'Busy server or unknown class', '100HZ', 4649.0, 2874.0, 100000.0, '113', 'tcp', 11.05]\n",
      "172.16.68.5 12-16 [1082, 'up', 'echo-reply', 127.0, 'symantec.pdc.jiit', None, None, None, 2, 260, 'Good luck!', 'Busy server or unknown class', 'zero timestamp', 13116.0, 19490.0, 100000.0, '3389', 'tcp', 2.73]\n",
      "172.16.68.8 12-16 [1082, 'up', 'echo-reply', 127.0, 'jiitwebsite.pdc.jiit', 6494836, 'Mon Aug 21 08:51:47 2017', None, 2, 250, 'Good luck!', 'Busy server or unknown class', '100HZ', 15147.0, 21529.0, 101263.0, '3389', 'tcp', 3.5100000000000002]\n",
      "172.16.68.10 12-16 [1082, 'up', 'echo-reply', 127.0, None, 6494545, 'Mon Aug 21 08:56:38 2017', None, 2, 258, 'Good luck!', 'Busy server or unknown class', '100HZ', 2877.0, 2303.0, 100000.0, '3389', 'tcp', 3.95]\n",
      "172.16.68.30 12-16 [1082, 'up', 'echo-reply', 127.0, 'fileserver2.pdc.jiit', 2779148, 'Tue Oct  3 08:59:55 2017', None, 2, 256, 'Good luck!', 'Busy server or unknown class', '100HZ', 2022.0, 835.0, 100000.0, '3389', 'tcp', 2.33]\n",
      "172.16.68.5 16-20 [915, 'up', 'echo-reply', 127.0, 'symantec.pdc.jiit', None, None, None, 2, 261, 'Good luck!', 'Busy server or unknown class', 'zero timestamp', 17922.0, 15708.0, 100000.0, '587', 'tcp', 11.32]\n",
      "172.16.68.8 16-20 [915, 'up', 'echo-reply', 127.0, 'jiitwebsite.pdc.jiit', 6516748, 'Mon Aug 21 14:22:29 2017', None, 2, 251, 'Good luck!', 'Busy server or unknown class', '100HZ', 27809.0, 25181.0, 128533.0, '1025', 'tcp', 17.07]\n",
      "172.16.68.10 16-20 [915, 'up', 'echo-reply', 127.0, None, 6516456, 'Mon Aug 21 14:27:21 2017', None, 2, 263, 'Good luck!', 'Busy server or unknown class', '100HZ', 24428.0, 23840.0, 119788.0, '1025', 'tcp', 11.3]\n",
      "172.16.68.30 16-20 [915, 'up', 'echo-reply', 127.0, 'fileserver2.pdc.jiit', 2801060, 'Tue Oct  3 14:30:37 2017', None, 2, 258, 'Good luck!', 'Busy server or unknown class', '100HZ', 8309.0, 9137.0, 100000.0, '1025', 'tcp', 12.280000000000001]\n",
      "172.16.68.5 20-00 [800, 'up', 'echo-reply', 127.0, 'symantec.pdc.jiit', None, None, None, 2, 263, 'Good luck!', 'Busy server or unknown class', 'zero timestamp', 1163.0, 629.0, 100000.0, '111', 'tcp', 4.88]\n",
      "172.16.68.10 20-00 [800, 'up', 'echo-reply', 127.0, None, 7133657, 'Mon Aug 21 08:56:42 2017', None, 2, 250, 'Good luck!', 'Busy server or unknown class', '100HZ', 1566.0, 1606.0, 100000.0, '111', 'tcp', 7.82]\n",
      "172.16.68.30 20-00 [800, 'up', 'echo-reply', 127.0, 'fileserver2.pdc.jiit', 3418259, 'Tue Oct  3 09:00:00 2017', None, 2, 256, 'Good luck!', 'Busy server or unknown class', '100HZ', 2588.0, 2087.0, 100000.0, '111', 'tcp', 6.87]\n"
     ]
    }
   ],
   "source": [
    "result=filter_by(0,filterant=\"ipidclass\",value=\"Busy server or unknown class\")\n",
    "for p,fname in zip(picklename,filename): \n",
    "    pickle.dump(result[fname],open(\"Pickles/BusyServer/\"+str(p)+\".pickle\",\"wb\"))"
   ]
  },
  {
   "cell_type": "code",
   "execution_count": 103,
   "metadata": {
    "scrolled": false
   },
   "outputs": [
    {
     "name": "stdout",
     "output_type": "stream",
     "text": [
      "172.16.68.5 00-04 [1423, 'up', 'echo-reply', 127.0, 'symantec.pdc.jiit', None, None, None, 2, 260, 'Good luck!', 'Incremental', 'zero timestamp', 26766.0, 30942.0, 150534.0, '21', 'tcp', 115.29]\n",
      "172.16.68.5 04-08 [867, 'up', 'echo-reply', 127.0, 'symantec.pdc.jiit', None, None, None, 2, 254, 'Good luck!', 'Busy server or unknown class', 'zero timestamp', 3005.0, 2280.0, 100000.0, '1720', 'tcp', 11.88]\n",
      "172.16.68.5 08-12 [1031, 'up', 'echo-reply', 127.0, 'symantec.pdc.jiit', None, None, None, 2, 250, 'Good luck!', 'Busy server or unknown class', 'zero timestamp', 3910.0, 2334.0, 100000.0, '113', 'tcp', 8.57]\n",
      "172.16.68.5 12-16 [1082, 'up', 'echo-reply', 127.0, 'symantec.pdc.jiit', None, None, None, 2, 260, 'Good luck!', 'Busy server or unknown class', 'zero timestamp', 13116.0, 19490.0, 100000.0, '3389', 'tcp', 2.73]\n",
      "172.16.68.5 16-20 [915, 'up', 'echo-reply', 127.0, 'symantec.pdc.jiit', None, None, None, 2, 261, 'Good luck!', 'Busy server or unknown class', 'zero timestamp', 17922.0, 15708.0, 100000.0, '587', 'tcp', 11.32]\n",
      "172.16.68.5 20-00 [800, 'up', 'echo-reply', 127.0, 'symantec.pdc.jiit', None, None, None, 2, 263, 'Good luck!', 'Busy server or unknown class', 'zero timestamp', 1163.0, 629.0, 100000.0, '111', 'tcp', 4.88]\n",
      "\n",
      "\n",
      "\n",
      "\n",
      "\n",
      "\n",
      "172.16.68.8 00-04 [1423, 'up', 'echo-reply', 127.0, 'jiitwebsite.pdc.jiit', 6453953, 'Mon Aug 21 14:22:29 2017', None, 2, 262, 'Good luck!', 'Incremental', '100HZ', 49290.0, 50827.0, 252598.0, '21', 'tcp', 195.45]\n",
      "172.16.68.8 04-08 [867, 'up', 'echo-reply', 127.0, 'jiitwebsite.pdc.jiit', 6463467, 'Mon Aug 21 14:22:28 2017', None, 2, 249, 'Good luck!', 'Incremental', '100HZ', 4585.0, 2807.0, 100000.0, '1720', 'tcp', 11.860000000000001]\n",
      "172.16.68.8 08-12 [1031, 'up', 'echo-reply', 127.0, 'jiitwebsite.pdc.jiit', 6477837, 'Mon Aug 21 14:22:28 2017', None, 2, 243, 'Good luck!', 'Incremental', '100HZ', 5165.0, 5167.0, 100000.0, '113', 'tcp', 20.42]\n",
      "172.16.68.8 12-16 [1082, 'up', 'echo-reply', 127.0, 'jiitwebsite.pdc.jiit', 6494836, 'Mon Aug 21 08:51:47 2017', None, 2, 250, 'Good luck!', 'Busy server or unknown class', '100HZ', 15147.0, 21529.0, 101263.0, '3389', 'tcp', 3.5100000000000002]\n",
      "172.16.68.8 16-20 [915, 'up', 'echo-reply', 127.0, 'jiitwebsite.pdc.jiit', 6516748, 'Mon Aug 21 14:22:29 2017', None, 2, 251, 'Good luck!', 'Busy server or unknown class', '100HZ', 27809.0, 25181.0, 128533.0, '1025', 'tcp', 17.07]\n"
     ]
    },
    {
     "data": {
      "text/plain": [
       "{}"
      ]
     },
     "execution_count": 103,
     "metadata": {},
     "output_type": "execute_result"
    }
   ],
   "source": [
    "# ICMP Check\n",
    "filter_by(0,filterant=\"proto\",value=\"icmp\",ip=\"172.16.68.5\")\n",
    "print(\"\\n\\n\\n\\n\\n\")\n",
    "filter_by(0,filterant=\"proto\",value=\"icmp\",ip=\"172.16.68.8\")"
   ]
  },
  {
   "cell_type": "code",
   "execution_count": 37,
   "metadata": {},
   "outputs": [
    {
     "name": "stdout",
     "output_type": "stream",
     "text": [
      "{'00-04': {'172.16.68.8': [1423000, 'up', 'echo-reply', 127.0, 'jiitwebsite.pdc.jiit', 6453953, 'Mon Aug 21 14:22:29 2017', None, 2, 262, 'Good luck!', 'Incremental', '100HZ', 49290.0, 50827.0, 252598.0, '21', 'tcp', 195.45], '172.16.68.10': [1423000, 'up', 'echo-reply', 127.0, None, 6453662, 'Mon Aug 21 14:27:20 2017', None, 2, 263, 'Good luck!', 'Busy server or unknown class', '100HZ', 49183.0, 57839.0, 280539.0, '21', 'tcp', 221.72000000000003], '172.16.68.5': [1423000, 'up', 'echo-reply', 127.0, 'symantec.pdc.jiit', None, None, None, 2, 260, 'Good luck!', 'Incremental', 'zero timestamp', 26766.0, 30942.0, 150534.0, '21', 'tcp', 115.29], '172.16.68.30': [1423000, 'up', 'echo-reply', 127.0, 'fileserver2.pdc.jiit', 2738265, 'Tue Oct  3 14:30:37 2017', None, 2, 256, 'Good luck!', 'Busy server or unknown class', '100HZ', 69374.0, 38386.0, 222918.0, '21', 'tcp', 65.44]}, '04-08': {'172.16.68.8': [867000, 'up', 'echo-reply', 127.0, 'jiitwebsite.pdc.jiit', 6463467, 'Mon Aug 21 14:22:28 2017', None, 2, 249, 'Good luck!', 'Incremental', '100HZ', 4585.0, 2807.0, 100000.0, '1720', 'tcp', 11.860000000000001], '172.16.68.10': [867000, 'up', 'echo-reply', 127.0, None, 6463176, 'Mon Aug 21 14:27:19 2017', None, 2, 248, 'Good luck!', 'Busy server or unknown class', '100HZ', 4228.0, 3917.0, 100000.0, '1720', 'tcp', 11.84], '172.16.68.5': [867000, 'up', 'echo-reply', 127.0, 'symantec.pdc.jiit', None, None, None, 2, 254, 'Good luck!', 'Busy server or unknown class', 'zero timestamp', 3005.0, 2280.0, 100000.0, '1720', 'tcp', 11.88], '172.16.68.30': [867000, 'up', 'echo-reply', 127.0, 'fileserver2.pdc.jiit', 2747779, 'Tue Oct  3 14:30:36 2017', None, 2, 252, 'Good luck!', 'Incremental', '100HZ', 4410.0, 4388.0, 100000.0, '1720', 'tcp', 6.470000000000001]}, '16-20': {'172.16.68.8': [915000, 'up', 'echo-reply', 127.0, 'jiitwebsite.pdc.jiit', 6516748, 'Mon Aug 21 14:22:29 2017', None, 2, 251, 'Good luck!', 'Busy server or unknown class', '100HZ', 27809.0, 25181.0, 128533.0, '1025', 'tcp', 17.07], '172.16.68.10': [915000, 'up', 'echo-reply', 127.0, None, 6516456, 'Mon Aug 21 14:27:21 2017', None, 2, 263, 'Good luck!', 'Busy server or unknown class', '100HZ', 24428.0, 23840.0, 119788.0, '1025', 'tcp', 11.3], '172.16.68.5': [915000, 'up', 'echo-reply', 127.0, 'symantec.pdc.jiit', None, None, None, 2, 261, 'Good luck!', 'Busy server or unknown class', 'zero timestamp', 17922.0, 15708.0, 100000.0, '587', 'tcp', 11.32], '172.16.68.30': [915000, 'up', 'echo-reply', 127.0, 'fileserver2.pdc.jiit', 2801060, 'Tue Oct  3 14:30:37 2017', None, 2, 258, 'Good luck!', 'Busy server or unknown class', '100HZ', 8309.0, 9137.0, 100000.0, '1025', 'tcp', 12.280000000000001]}, '20-00': {'172.16.68.10': [800000, 'up', 'echo-reply', 127.0, None, 7133657, 'Mon Aug 21 08:56:42 2017', None, 2, 250, 'Good luck!', 'Busy server or unknown class', '100HZ', 1566.0, 1606.0, 100000.0, '111', 'tcp', 7.82], '172.16.68.5': [800000, 'up', 'echo-reply', 127.0, 'symantec.pdc.jiit', None, None, None, 2, 263, 'Good luck!', 'Busy server or unknown class', 'zero timestamp', 1163.0, 629.0, 100000.0, '111', 'tcp', 4.88], '172.16.68.30': [800000, 'up', 'echo-reply', 127.0, 'fileserver2.pdc.jiit', 3418259, 'Tue Oct  3 09:00:00 2017', None, 2, 256, 'Good luck!', 'Busy server or unknown class', '100HZ', 2588.0, 2087.0, 100000.0, '111', 'tcp', 6.87]}, '12-16': {'172.16.68.8': [1082000, 'up', 'echo-reply', 127.0, 'jiitwebsite.pdc.jiit', 6494836, 'Mon Aug 21 08:51:47 2017', None, 2, 250, 'Good luck!', 'Busy server or unknown class', '100HZ', 15147.0, 21529.0, 101263.0, '3389', 'tcp', 3.5100000000000002], '172.16.68.10': [1082000, 'up', 'echo-reply', 127.0, None, 6494545, 'Mon Aug 21 08:56:38 2017', None, 2, 258, 'Good luck!', 'Busy server or unknown class', '100HZ', 2877.0, 2303.0, 100000.0, '3389', 'tcp', 3.95], '172.16.68.5': [1082000, 'up', 'echo-reply', 127.0, 'symantec.pdc.jiit', None, None, None, 2, 260, 'Good luck!', 'Busy server or unknown class', 'zero timestamp', 13116.0, 19490.0, 100000.0, '3389', 'tcp', 2.73], '172.16.68.30': [1082000, 'up', 'echo-reply', 127.0, 'fileserver2.pdc.jiit', 2779148, 'Tue Oct  3 08:59:55 2017', None, 2, 256, 'Good luck!', 'Busy server or unknown class', '100HZ', 2022.0, 835.0, 100000.0, '3389', 'tcp', 2.33]}, '08-12': {'172.16.68.8': [1031000, 'up', 'echo-reply', 127.0, 'jiitwebsite.pdc.jiit', 6477837, 'Mon Aug 21 14:22:28 2017', None, 2, 243, 'Good luck!', 'Incremental', '100HZ', 5165.0, 5167.0, 100000.0, '113', 'tcp', 20.42], '172.16.68.10': [1031000, 'up', 'echo-reply', 127.0, None, 6477546, 'Mon Aug 21 14:27:19 2017', None, 2, 253, 'Good luck!', 'Busy server or unknown class', '100HZ', 5510.0, 4564.0, 100000.0, '113', 'tcp', 19.29], '172.16.68.5': [1031000, 'up', 'echo-reply', 127.0, 'symantec.pdc.jiit', None, None, None, 2, 250, 'Good luck!', 'Busy server or unknown class', 'zero timestamp', 3910.0, 2334.0, 100000.0, '113', 'tcp', 8.57], '172.16.68.30': [1031000, 'up', 'echo-reply', 127.0, 'fileserver2.pdc.jiit', 2762149, 'Tue Oct  3 14:30:36 2017', None, 2, 251, 'Good luck!', 'Busy server or unknown class', '100HZ', 4649.0, 2874.0, 100000.0, '113', 'tcp', 11.05]}}\n",
      "[1423000, 'up', 'echo-reply', 127.0, 'jiitwebsite.pdc.jiit', 6453953, 'Mon Aug 21 14:22:29 2017', None, 2, 262, 'Good luck!', 'Incremental', '100HZ', 49290.0, 50827.0, 252598.0, '21', 'tcp', 195.45] \n",
      "\n",
      " None Incremental\n",
      "[1423000, 'up', 'echo-reply', 127.0, None, 6453662, 'Mon Aug 21 14:27:20 2017', None, 2, 263, 'Good luck!', 'Busy server or unknown class', '100HZ', 49183.0, 57839.0, 280539.0, '21', 'tcp', 221.72000000000003] \n",
      "\n",
      " None Busy server or unknown class\n",
      "[1423000, 'up', 'echo-reply', 127.0, 'symantec.pdc.jiit', None, None, None, 2, 260, 'Good luck!', 'Incremental', 'zero timestamp', 26766.0, 30942.0, 150534.0, '21', 'tcp', 115.29] \n",
      "\n",
      " None Incremental\n",
      "[1423000, 'up', 'echo-reply', 127.0, 'fileserver2.pdc.jiit', 2738265, 'Tue Oct  3 14:30:37 2017', None, 2, 256, 'Good luck!', 'Busy server or unknown class', '100HZ', 69374.0, 38386.0, 222918.0, '21', 'tcp', 65.44] \n",
      "\n",
      " None Busy server or unknown class\n",
      "[867000, 'up', 'echo-reply', 127.0, 'jiitwebsite.pdc.jiit', 6463467, 'Mon Aug 21 14:22:28 2017', None, 2, 249, 'Good luck!', 'Incremental', '100HZ', 4585.0, 2807.0, 100000.0, '1720', 'tcp', 11.860000000000001] \n",
      "\n",
      " None Incremental\n",
      "[867000, 'up', 'echo-reply', 127.0, None, 6463176, 'Mon Aug 21 14:27:19 2017', None, 2, 248, 'Good luck!', 'Busy server or unknown class', '100HZ', 4228.0, 3917.0, 100000.0, '1720', 'tcp', 11.84] \n",
      "\n",
      " None Busy server or unknown class\n",
      "[867000, 'up', 'echo-reply', 127.0, 'symantec.pdc.jiit', None, None, None, 2, 254, 'Good luck!', 'Busy server or unknown class', 'zero timestamp', 3005.0, 2280.0, 100000.0, '1720', 'tcp', 11.88] \n",
      "\n",
      " None Busy server or unknown class\n",
      "[867000, 'up', 'echo-reply', 127.0, 'fileserver2.pdc.jiit', 2747779, 'Tue Oct  3 14:30:36 2017', None, 2, 252, 'Good luck!', 'Incremental', '100HZ', 4410.0, 4388.0, 100000.0, '1720', 'tcp', 6.470000000000001] \n",
      "\n",
      " None Incremental\n",
      "[915000, 'up', 'echo-reply', 127.0, 'jiitwebsite.pdc.jiit', 6516748, 'Mon Aug 21 14:22:29 2017', None, 2, 251, 'Good luck!', 'Busy server or unknown class', '100HZ', 27809.0, 25181.0, 128533.0, '1025', 'tcp', 17.07] \n",
      "\n",
      " None Busy server or unknown class\n",
      "[915000, 'up', 'echo-reply', 127.0, None, 6516456, 'Mon Aug 21 14:27:21 2017', None, 2, 263, 'Good luck!', 'Busy server or unknown class', '100HZ', 24428.0, 23840.0, 119788.0, '1025', 'tcp', 11.3] \n",
      "\n",
      " None Busy server or unknown class\n",
      "[915000, 'up', 'echo-reply', 127.0, 'symantec.pdc.jiit', None, None, None, 2, 261, 'Good luck!', 'Busy server or unknown class', 'zero timestamp', 17922.0, 15708.0, 100000.0, '587', 'tcp', 11.32] \n",
      "\n",
      " None Busy server or unknown class\n",
      "[915000, 'up', 'echo-reply', 127.0, 'fileserver2.pdc.jiit', 2801060, 'Tue Oct  3 14:30:37 2017', None, 2, 258, 'Good luck!', 'Busy server or unknown class', '100HZ', 8309.0, 9137.0, 100000.0, '1025', 'tcp', 12.280000000000001] \n",
      "\n",
      " None Busy server or unknown class\n",
      "[800000, 'up', 'echo-reply', 127.0, None, 7133657, 'Mon Aug 21 08:56:42 2017', None, 2, 250, 'Good luck!', 'Busy server or unknown class', '100HZ', 1566.0, 1606.0, 100000.0, '111', 'tcp', 7.82] \n",
      "\n",
      " None Busy server or unknown class\n",
      "[800000, 'up', 'echo-reply', 127.0, 'symantec.pdc.jiit', None, None, None, 2, 263, 'Good luck!', 'Busy server or unknown class', 'zero timestamp', 1163.0, 629.0, 100000.0, '111', 'tcp', 4.88] \n",
      "\n",
      " None Busy server or unknown class\n",
      "[800000, 'up', 'echo-reply', 127.0, 'fileserver2.pdc.jiit', 3418259, 'Tue Oct  3 09:00:00 2017', None, 2, 256, 'Good luck!', 'Busy server or unknown class', '100HZ', 2588.0, 2087.0, 100000.0, '111', 'tcp', 6.87] \n",
      "\n",
      " None Busy server or unknown class\n",
      "[1082000, 'up', 'echo-reply', 127.0, 'jiitwebsite.pdc.jiit', 6494836, 'Mon Aug 21 08:51:47 2017', None, 2, 250, 'Good luck!', 'Busy server or unknown class', '100HZ', 15147.0, 21529.0, 101263.0, '3389', 'tcp', 3.5100000000000002] \n",
      "\n",
      " None Busy server or unknown class\n",
      "[1082000, 'up', 'echo-reply', 127.0, None, 6494545, 'Mon Aug 21 08:56:38 2017', None, 2, 258, 'Good luck!', 'Busy server or unknown class', '100HZ', 2877.0, 2303.0, 100000.0, '3389', 'tcp', 3.95] \n",
      "\n",
      " None Busy server or unknown class\n",
      "[1082000, 'up', 'echo-reply', 127.0, 'symantec.pdc.jiit', None, None, None, 2, 260, 'Good luck!', 'Busy server or unknown class', 'zero timestamp', 13116.0, 19490.0, 100000.0, '3389', 'tcp', 2.73] \n",
      "\n",
      " None Busy server or unknown class\n",
      "[1082000, 'up', 'echo-reply', 127.0, 'fileserver2.pdc.jiit', 2779148, 'Tue Oct  3 08:59:55 2017', None, 2, 256, 'Good luck!', 'Busy server or unknown class', '100HZ', 2022.0, 835.0, 100000.0, '3389', 'tcp', 2.33] \n",
      "\n",
      " None Busy server or unknown class\n",
      "[1031000, 'up', 'echo-reply', 127.0, 'jiitwebsite.pdc.jiit', 6477837, 'Mon Aug 21 14:22:28 2017', None, 2, 243, 'Good luck!', 'Incremental', '100HZ', 5165.0, 5167.0, 100000.0, '113', 'tcp', 20.42] \n",
      "\n",
      " None Incremental\n",
      "[1031000, 'up', 'echo-reply', 127.0, None, 6477546, 'Mon Aug 21 14:27:19 2017', None, 2, 253, 'Good luck!', 'Busy server or unknown class', '100HZ', 5510.0, 4564.0, 100000.0, '113', 'tcp', 19.29] \n",
      "\n",
      " None Busy server or unknown class\n",
      "[1031000, 'up', 'echo-reply', 127.0, 'symantec.pdc.jiit', None, None, None, 2, 250, 'Good luck!', 'Busy server or unknown class', 'zero timestamp', 3910.0, 2334.0, 100000.0, '113', 'tcp', 8.57] \n",
      "\n",
      " None Busy server or unknown class\n",
      "[1031000, 'up', 'echo-reply', 127.0, 'fileserver2.pdc.jiit', 2762149, 'Tue Oct  3 14:30:36 2017', None, 2, 251, 'Good luck!', 'Busy server or unknown class', '100HZ', 4649.0, 2874.0, 100000.0, '113', 'tcp', 11.05] \n",
      "\n",
      " None Busy server or unknown class\n"
     ]
    }
   ],
   "source": [
    "#Busy Server Analysis \"172.16.68.30\",\"172.16.68.10\",\"172.16.68.5\",\"172.16.68.8\"\n",
    "\n",
    "result=filter_by(0,ip=[\"172.16.68.30\",\"172.16.68.10\",\"172.16.68.5\",\"172.16.68.8\"])\n",
    "for p,fname in zip(picklename,filename): \n",
    "    pickle.dump(result[fname],open(\"Pickles/BusyServer/\"+str(p)+\".pickle\",\"wb\"))\n",
    "print(result)\n",
    "for faltu in result:\n",
    "    for ipv4 in result[faltu]:\n",
    "        print(result[faltu][ipv4],\"\\n\\n\",result[faltu][ipv4][datamap[\"fport\"]],result[faltu][ipv4][datamap[\"ipidclass\"]])"
   ]
  },
  {
   "cell_type": "code",
   "execution_count": 36,
   "metadata": {
    "collapsed": true
   },
   "outputs": [],
   "source": [
    "# morf pickle\n",
    "\n",
    "data={'00-04': {'172.16.68.5': [1423000, 'up', 'echo-reply', 127.0, 'symantec.pdc.jiit', None, None, None, 2, 260, 'Good luck!', 'Incremental', 'zero timestamp', 26766.0, 30942.0, 150534.0, '21', 'tcp', 115.29]}, '04-08': {'172.16.68.5': [867000, 'up', 'echo-reply', 127.0, 'symantec.pdc.jiit', None, None, None, 2, 254, 'Good luck!', 'Busy server or unknown class', 'zero timestamp', 5505.0, 4780.0, 100000.0, '1720', 'tcp', 11.88]}, '16-20': {'172.16.68.5': [915000, 'up', 'echo-reply', 127.0, 'symantec.pdc.jiit', None, None, None, 2, 261, 'Good luck!', 'Busy server or unknown class', 'zero timestamp', 15422.0, 13208.0, 100000.0, '587', 'tcp', 11.32]}, '20-00': {'172.16.68.5': [800000, 'up', 'echo-reply', 127.0, 'symantec.pdc.jiit', None, None, None, 2, 263, 'Good luck!', 'Busy server or unknown class', 'zero timestamp', 3663.0, 4129.0, 100000.0, '111', 'tcp', 4.88]}, '12-16': {'172.16.68.5': [1082000, 'up', 'echo-reply', 127.0, 'symantec.pdc.jiit', None, None, None, 2, 260, 'Good luck!', 'Busy server or unknown class', 'zero timestamp', 4116.0, 5490.0, 100000.0, '3389', 'tcp', 2.73]}, '08-12': {'172.16.68.5': [1031000, 'up', 'echo-reply', 127.0, 'symantec.pdc.jiit', None, None, None, 2, 250, 'Good luck!', 'Busy server or unknown class', 'zero timestamp', 6410.0, 4834.0, 100000.0, '113', 'tcp', 8.57]}}\n",
    "\n",
    "for p,fname in zip(picklename,filename): \n",
    "    pickle.dump(data[fname],open(\"Pickles/BusyServer/\"+str(p)+\".pickle\",\"wb\"))"
   ]
  },
  {
   "cell_type": "code",
   "execution_count": 120,
   "metadata": {},
   "outputs": [
    {
     "name": "stdout",
     "output_type": "stream",
     "text": [
      "172.16.68.25 00-04 [1423, 'up', 'echo-reply', 63.0, None, 1013525, 'Mon Oct 23 13:36:17 2017', None, 2, 256, 'Good luck!', 'Incrementing by 2', '100HZ', 66574.0, 41163.0, 231226.0, '8888', 'tcp', 51.660000000000004]\n",
      "172.16.68.32 00-04 [1423, 'up', 'echo-reply', 63.0, None, 3090412, 'Fri Sep 29 12:41:30 2017', None, 2, 259, 'Good luck!', 'Incrementing by 2', '100HZ', 22197.0, 19773.0, 101289.0, '8888', 'tcp', 91.84]\n",
      "172.16.68.25 04-08 [867, 'up', 'echo-reply', 63.0, None, 1023077, 'Mon Oct 23 13:35:38 2017', None, 2, 247, 'Good luck!', 'Incrementing by 2', '100HZ', 2209.0, 982.0, 100000.0, '1720', 'tcp', 6.46]\n",
      "172.16.68.32 04-08 [867, 'up', 'echo-reply', 63.0, None, 3099964, 'Fri Sep 29 12:40:51 2017', None, 2, 252, 'Good luck!', 'Incrementing by 2', '100HZ', 13348.0, 18446.0, 100000.0, '1720', 'tcp', 50.919999999999995]\n",
      "172.16.68.25 08-12 [1031, 'up', 'echo-reply', 63.0, None, 1037507, 'Mon Oct 23 13:34:38 2017', None, 2, 257, 'Good luck!', 'Incrementing by 2', '100HZ', 3404.0, 1687.0, 100000.0, '113', 'tcp', 11.100000000000001]\n",
      "172.16.68.32 08-12 [1031, 'up', 'echo-reply', 63.0, None, 3114393, 'Fri Sep 29 12:39:52 2017', None, 2, 254, 'Good luck!', 'Incrementing by 2', '100HZ', 4735.0, 2887.0, 100000.0, '113', 'tcp', 10.99]\n",
      "172.16.68.25 12-16 [1082, 'up', 'echo-reply', 63.0, None, 1054575, 'Mon Oct 23 08:02:48 2017', None, 2, 247, 'Good luck!', 'Incrementing by 2', '100HZ', 1196.0, 435.0, 100000.0, '3389', 'tcp', 3.06]\n",
      "172.16.68.32 12-16 [1082, 'up', 'echo-reply', 63.0, None, 3131461, 'Fri Sep 29 07:08:02 2017', None, 2, 261, 'Good luck!', 'Incrementing by 2', '100HZ', 1699.0, 829.0, 100000.0, '3389', 'tcp', 1.96]\n",
      "172.16.68.25 16-20 [915, 'up', 'echo-reply', 63.0, None, 1076576, 'Mon Oct 23 13:32:01 2017', None, 2, 263, 'Good luck!', 'Incrementing by 2', '100HZ', 26582.0, 23639.0, 121138.0, '1025', 'tcp', 12.370000000000001]\n",
      "172.16.68.32 16-20 [915, 'up', 'echo-reply', 63.0, None, 3153462, 'Fri Sep 29 12:37:15 2017', None, 2, 252, 'Good luck!', 'Incrementing by 2', '100HZ', 9884.0, 8939.0, 100000.0, '1025', 'tcp', 12.26]\n",
      "172.16.68.25 20-00 [800, 'up', 'echo-reply', 63.0, None, 270244, 'Wed Nov  8 19:26:55 2017', None, 2, 260, 'Good luck!', 'Incrementing by 2', '100HZ', 2164.0, 1488.0, 100000.0, '111', 'tcp', 5.9]\n",
      "172.16.68.32 20-00 [800, 'up', 'echo-reply', 63.0, None, 3773177, 'Fri Sep 29 06:24:42 2017', None, 2, 261, 'Good luck!', 'Incrementing by 2', '100HZ', 2028.0, 1133.0, 100000.0, '111', 'tcp', 6.04]\n",
      "None 257\n",
      "None 254\n",
      "None 263\n",
      "None 252\n",
      "None 247\n",
      "None 252\n",
      "None 256\n",
      "None 259\n",
      "None 247\n",
      "None 261\n",
      "None 260\n",
      "None 261\n"
     ]
    }
   ],
   "source": [
    "\n",
    "result=filter_by(0,filterant=\"ipidclass\",value=\"Incrementing by 2\")\n",
    "# for p,fname in zip(picklename,filename): \n",
    "#     pickle.dump(result[fname],open(\"Pickles/Allzeros/\"+str(p)+\".pickle\",\"wb\"))\n",
    "for faltu in result:\n",
    "    for ipv4 in result[faltu]:\n",
    "         print(result[faltu][ipv4][datamap[\"fport\"]],result[faltu][ipv4][datamap[\"index\"]])"
   ]
  },
  {
   "cell_type": "code",
   "execution_count": 121,
   "metadata": {
    "scrolled": true
   },
   "outputs": [
    {
     "name": "stdout",
     "output_type": "stream",
     "text": [
      "172.16.68.6 00-04 [1423, 'up', 'echo-reply', 63.0, None, None, None, '996', 2, 264, 'Good luck!', 'All zeros', 'none returned (unsupported)', 29624.0, 23126.0, 122128.0, '22', 'tcp', 81.53]\n",
      "172.16.68.11 00-04 [1423, 'up', 'echo-reply', 63.0, 'linux', 1472045, 'Wed Oct 18 06:14:17 2017', '982', 2, 203, 'Good luck!', 'All zeros', 'other', 50843.0, 51569.0, 257119.0, '443', 'tcp', 51.03]\n",
      "172.16.68.15 00-04 [1423, 'up', 'echo-reply', 63.0, None, None, None, '996', 2, 256, 'Good luck!', 'All zeros', 'none returned (unsupported)', 63245.0, 74032.0, 359373.0, '22', 'tcp', 49.5]\n",
      "172.16.68.6 04-08 [867, 'up', 'echo-reply', 63.0, None, None, None, '996', 2, 252, 'Good luck!', 'All zeros', 'none returned (unsupported)', 4242.0, 3567.0, 100000.0, '22', 'tcp', 7.33]\n",
      "172.16.68.11 04-08 [867, 'up', 'echo-reply', 63.0, 'linux.pdc.jiit', 1475672, 'Wed Oct 18 07:52:23 2017', '982', 2, 196, 'Good luck!', 'All zeros', 'other', 4782.0, 4365.0, 100000.0, '445', 'tcp', 9.39]\n",
      "172.16.68.15 04-08 [867, 'up', 'echo-reply', 63.0, None, None, None, '996', 2, 258, 'Good luck!', 'All zeros', 'none returned (unsupported)', 9247.0, 11257.0, 100000.0, '22', 'tcp', 30.580000000000002]\n",
      "172.16.68.6 08-12 [1031, 'up', 'echo-reply', 63.0, None, None, None, '996', 2, 245, 'Good luck!', 'All zeros', 'none returned (unsupported)', 3240.0, 2033.0, 100000.0, '22', 'tcp', 12.33]\n",
      "172.16.68.11 08-12 [1031, 'up', 'echo-reply', 63.0, 'linux', 1502056, 'Wed Oct 18 04:32:09 2017', '982', 2, 188, 'Good luck!', 'All zeros', 'other', 11195.0, 15961.0, 100000.0, '80', 'tcp', 54.31]\n",
      "172.16.68.15 08-12 [1031, 'up', 'echo-reply', 63.0, None, None, None, '996', 2, 255, 'Good luck!', 'All zeros', 'none returned (unsupported)', 6585.0, 3711.0, 100000.0, '22', 'tcp', 15.190000000000001]\n",
      "172.16.68.6 12-16 [1082, 'up', 'echo-reply', 63.0, None, None, None, '996', 2, 253, 'Good luck!', 'All zeros', 'none returned (unsupported)', 1226.0, 852.0, 100000.0, '22', 'tcp', 3.74]\n",
      "172.16.68.11 12-16 [1082, 'up', 'echo-reply', 63.0, 'linux', 1507040, 'Wed Oct 18 02:21:43 2017', '982', 2, 201, 'Good luck!', 'All zeros', 'other', 1101.0, 489.0, 100000.0, '80', 'tcp', 1.6600000000000001]\n",
      "172.16.68.15 12-16 [1082, 'up', 'echo-reply', 63.0, None, None, None, '996', 2, 252, 'Good luck!', 'All zeros', 'none returned (unsupported)', 2044.0, 1467.0, 100000.0, '22', 'tcp', 2.2600000000000002]\n",
      "172.16.68.6 16-20 [915, 'up', 'echo-reply', 63.0, None, None, None, '996', 2, 262, 'Good luck!', 'All zeros', 'none returned (unsupported)', 11276.0, 14141.0, 100000.0, '22', 'tcp', 53.54]\n",
      "172.16.68.11 16-20 [915, 'up', 'echo-reply', 63.0, 'linux.pdc.jiit', 1516818, 'Wed Oct 18 11:14:39 2017', '982', 2, 202, 'Good luck!', 'All zeros', 'other', 8556.0, 4724.0, 100000.0, '445', 'tcp', 13.48]\n",
      "172.16.68.15 16-20 [915, 'up', 'echo-reply', 63.0, None, None, None, '996', 2, 264, 'Good luck!', 'All zeros', 'none returned (unsupported)', 11712.0, 10112.0, 100000.0, '22', 'tcp', 7.9399999999999995]\n",
      "172.16.68.6 20-00 [800, 'up', 'echo-reply', 63.0, None, None, None, '996', 2, 255, 'Good luck!', 'All zeros', 'none returned (unsupported)', 1588.0, 1168.0, 100000.0, '22', 'tcp', 6.0]\n",
      "172.16.68.11 20-00 [800, 'up', 'echo-reply', 63.0, 'linux.pdc.jiit', 2146140, 'Wed Oct 18 02:21:59 2017', '982', 2, 193, 'Good luck!', 'All zeros', 'other', 3718.0, 3411.0, 100000.0, '80', 'tcp', 4.11]\n",
      "172.16.68.15 20-00 [800, 'up', 'echo-reply', 63.0, None, None, None, '996', 2, 262, 'Good luck!', 'All zeros', 'none returned (unsupported)', 2157.0, 1225.0, 100000.0, '22', 'tcp', 6.7]\n",
      "996 245\n",
      "982 188\n",
      "996 255\n",
      "996 262\n",
      "982 202\n",
      "996 264\n",
      "996 252\n",
      "982 196\n",
      "996 258\n",
      "996 264\n",
      "982 203\n",
      "996 256\n",
      "996 253\n",
      "982 201\n",
      "996 252\n",
      "996 255\n",
      "982 193\n",
      "996 262\n"
     ]
    }
   ],
   "source": [
    "result=filter_by(0,filterant=\"ipidclass\",value=\"All zeros\")\n",
    "# for p,fname in zip(picklename,filename): \n",
    "#     pickle.dump(result[fname],open(\"Pickles/Allzeros/\"+str(p)+\".pickle\",\"wb\"))\n",
    "for faltu in result:\n",
    "    for ipv4 in result[faltu]:\n",
    "         print(result[faltu][ipv4][datamap[\"fport\"]],result[faltu][ipv4][datamap[\"index\"]])"
   ]
  },
  {
   "cell_type": "code",
   "execution_count": 126,
   "metadata": {
    "scrolled": true
   },
   "outputs": [
    {
     "name": "stdout",
     "output_type": "stream",
     "text": [
      "None 250\n",
      "None 254\n",
      "None 252\n",
      "None 254\n",
      "None 250\n",
      "None 251\n",
      "None 255\n",
      "None 250\n",
      "None 255\n",
      "None 243\n",
      "None 259\n",
      "None 250\n",
      "None 258\n",
      "None 251\n",
      "None 258\n",
      "None 260\n",
      "None 262\n",
      "None 256\n",
      "None 260\n",
      "None 256\n",
      "None 254\n",
      "None 258\n",
      "None 261\n",
      "None 255\n",
      "None 255\n",
      "None 248\n",
      "None 262\n",
      "None 254\n",
      "None 252\n",
      "None 251\n",
      "None 252\n",
      "None 251\n",
      "None 249\n",
      "None 231\n",
      "None 250\n",
      "None 262\n",
      "None 260\n",
      "None 260\n",
      "None 252\n",
      "None 260\n",
      "None 256\n",
      "None 258\n",
      "None 253\n",
      "None 256\n",
      "None 262\n",
      "None 262\n",
      "None 262\n",
      "None 256\n",
      "None 250\n",
      "None 260\n",
      "None 260\n",
      "None 255\n",
      "None 256\n",
      "None 259\n",
      "None 253\n",
      "None 244\n",
      "None 254\n",
      "None 260\n",
      "None 256\n",
      "None 256\n",
      "None 253\n",
      "None 252\n",
      "None None\n",
      "None 251\n",
      "None 259\n",
      "None 257\n",
      "None 259\n",
      "None 263\n"
     ]
    }
   ],
   "source": [
    "result=filter_by(0,ip=['172.16.68.8', '172.16.68.18', '172.16.68.14', '172.16.68.9', '172.16.68.13', '172.16.68.4', '172.16.68.1', '172.16.68.31', '172.16.68.2', '172.16.68.19', '172.16.68.13', '172.16.68.18', '172.16.68.9', '172.16.68.14', '172.16.68.4', '172.16.68.1', '172.16.68.2', '172.16.68.19', '172.16.68.30', '172.16.68.8', '172.16.68.18', '172.16.68.14', '172.16.68.9', '172.16.68.13', '172.16.68.4', '172.16.68.1', '172.16.68.31', '172.16.68.2', '172.16.68.19', '172.16.68.8', '172.16.68.18', '172.16.68.14', '172.16.68.9', '172.16.68.19', '172.16.68.13', '172.16.68.4', '172.16.68.1', '172.16.68.31', '172.16.68.2', '172.16.68.5', '172.16.68.13', '172.16.68.18', '172.16.68.9', '172.16.68.14', '172.16.68.4', '172.16.68.1', '172.16.68.2', '172.16.68.19', '172.16.68.13', '172.16.68.18', '172.16.68.9', '172.16.68.14', '172.16.68.4', '172.16.68.1', '172.16.68.2'])\n",
    "for p,fname in zip(picklename,filename): \n",
    "    pickle.dump(result[fname],open(\"Pickles/Incremental/\"+str(p)+\".pickle\",\"wb\"))\n",
    "\n",
    "for faltu in result:\n",
    "    for ipv4 in result[faltu]:\n",
    "         \n",
    "         print(result[faltu][ipv4][datamap[\"fport\"]],result[faltu][ipv4][datamap[\"index\"]])\n"
   ]
  },
  {
   "cell_type": "code",
   "execution_count": 128,
   "metadata": {
    "scrolled": true
   },
   "outputs": [
    {
     "name": "stdout",
     "output_type": "stream",
     "text": [
      "None 252\n",
      "None 255\n",
      "None 255\n",
      "None 250\n",
      "None 254\n",
      "None 250\n",
      "None 256\n",
      "None 260\n",
      "None 262\n",
      "None 258\n",
      "None 261\n",
      "None 248\n",
      "None 251\n",
      "None 251\n",
      "None 250\n",
      "None 262\n",
      "None 254\n",
      "None 260\n",
      "None 256\n",
      "None 258\n",
      "None 262\n",
      "None 252\n",
      "None 260\n",
      "None 253\n",
      "None 260\n",
      "None 255\n",
      "None 254\n",
      "None 260\n",
      "None 259\n",
      "None 251\n",
      "None 252\n",
      "None 259\n",
      "None 263\n",
      "['172.16.68.9', '172.16.68.14', '172.16.68.4', '172.16.68.31', '172.16.68.2', '172.16.68.5', '172.16.68.4', '172.16.68.14', '172.16.68.9', '172.16.68.2', '172.16.68.5', '172.16.68.9', '172.16.68.14', '172.16.68.4', '172.16.68.31', '172.16.68.2', '172.16.68.5', '172.16.68.9', '172.16.68.14', '172.16.68.4', '172.16.68.31', '172.16.68.2', '172.16.68.5', '172.16.68.4', '172.16.68.14', '172.16.68.9', '172.16.68.2', '172.16.68.5', '172.16.68.4', '172.16.68.14', '172.16.68.9', '172.16.68.2', '172.16.68.5']\n"
     ]
    }
   ],
   "source": [
    "\n",
    "result=filter_by(0,ip=['172.16.68.9', '172.16.68.14', '172.16.68.4', '172.16.68.31', '172.16.68.2', '172.16.68.5', '172.16.68.4', '172.16.68.14', '172.16.68.9', '172.16.68.2', '172.16.68.5', '172.16.68.9', '172.16.68.14', '172.16.68.4', '172.16.68.31', '172.16.68.2', '172.16.68.5', '172.16.68.9', '172.16.68.14', '172.16.68.4', '172.16.68.31', '172.16.68.2', '172.16.68.5', '172.16.68.4', '172.16.68.14', '172.16.68.9', '172.16.68.2', '172.16.68.5', '172.16.68.4', '172.16.68.14', '172.16.68.9', '172.16.68.2', '172.16.68.5'])\n",
    "for p,fname in zip(picklename,filename): \n",
    "    pickle.dump(result[fname],open(\"Pickles/zerotimestamp/\"+str(p)+\".pickle\",\"wb\"))\n",
    "temp=[]\n",
    "for faltu in result:\n",
    "    for ipv4 in result[faltu]:\n",
    "         temp.append(ipv4)\n",
    "         print(result[faltu][ipv4][datamap[\"fport\"]],result[faltu][ipv4][datamap[\"index\"]])\n",
    "print(temp)"
   ]
  },
  {
   "cell_type": "code",
   "execution_count": 134,
   "metadata": {
    "scrolled": true
   },
   "outputs": [
    {
     "name": "stdout",
     "output_type": "stream",
     "text": [
      "None 257\n",
      "None 253\n",
      "None 259\n",
      "None 250\n",
      "None 250\n",
      "None 243\n",
      "None 254\n",
      "None 254\n",
      "None 251\n",
      "None 263\n",
      "None 263\n",
      "None 258\n",
      "None 256\n",
      "None 260\n",
      "None 251\n",
      "None 254\n",
      "None 252\n",
      "None 258\n",
      "None 247\n",
      "None 248\n",
      "None 231\n",
      "None 252\n",
      "None 255\n",
      "None 249\n",
      "None 255\n",
      "None 252\n",
      "None 252\n",
      "None 256\n",
      "None 263\n",
      "None 262\n",
      "None 253\n",
      "None 262\n",
      "None 262\n",
      "None 260\n",
      "None 259\n",
      "None 256\n",
      "None 247\n",
      "None 258\n",
      "None 260\n",
      "None 256\n",
      "None 259\n",
      "None 250\n",
      "None 244\n",
      "None 261\n",
      "None 256\n",
      "None 260\n",
      "None 256\n",
      "None 253\n",
      "None None\n",
      "None 250\n",
      "None 257\n",
      "None 261\n",
      "None 256\n",
      "{'172.16.68.25', '172.16.68.13', '172.16.68.32', '172.16.68.30', '172.16.68.1', '172.16.68.19', '172.16.68.10', '172.16.68.18', '172.16.68.8'}\n"
     ]
    }
   ],
   "source": [
    "result=filter_by(0,ip=['172.16.68.25', '172.16.68.10', '172.16.68.18', '172.16.68.19', '172.16.68.13', '172.16.68.8', '172.16.68.1', '172.16.68.32', '172.16.68.30', '172.16.68.25', '172.16.68.10', '172.16.68.18', '172.16.68.19', '172.16.68.13', '172.16.68.8', '172.16.68.1', '172.16.68.32', '172.16.68.30', '172.16.68.25', '172.16.68.10', '172.16.68.18', '172.16.68.19', '172.16.68.13', '172.16.68.8', '172.16.68.1', '172.16.68.32', '172.16.68.30', '172.16.68.25', '172.16.68.10', '172.16.68.18', '172.16.68.19', '172.16.68.13', '172.16.68.8', '172.16.68.1', '172.16.68.32', '172.16.68.30', '172.16.68.25', '172.16.68.10', '172.16.68.18', '172.16.68.19', '172.16.68.13', '172.16.68.8', '172.16.68.1', '172.16.68.32', '172.16.68.30', '172.16.68.25', '172.16.68.13', '172.16.68.18', '172.16.68.30', '172.16.68.10', '172.16.68.1', '172.16.68.32'])\n",
    "for p,fname in zip(picklename,filename): \n",
    "    pickle.dump(result[fname],open(\"Pickles/100HZ/\"+str(p)+\".pickle\",\"wb\"))\n",
    "temp=[]\n",
    "for faltu in result:\n",
    "    for ipv4 in result[faltu]:\n",
    "         temp.append(ipv4)\n",
    "         print(result[faltu][ipv4][datamap[\"fport\"]],result[faltu][ipv4][datamap[\"index\"]])\n",
    "print(set(temp))"
   ]
  },
  {
   "cell_type": "code",
   "execution_count": 135,
   "metadata": {},
   "outputs": [
    {
     "name": "stdout",
     "output_type": "stream",
     "text": [
      "996 245\n",
      "996 255\n",
      "996 262\n",
      "996 264\n",
      "996 252\n",
      "996 258\n",
      "996 264\n",
      "996 256\n",
      "996 253\n",
      "996 252\n",
      "996 255\n",
      "996 262\n",
      "{'172.16.68.6', '172.16.68.15'}\n"
     ]
    }
   ],
   "source": [
    "\n",
    "result=filter_by(0,ip=['172.16.68.6', '172.16.68.15'])\n",
    "for p,fname in zip(picklename,filename): \n",
    "    pickle.dump(result[fname],open(\"Pickles/nonereturned/\"+str(p)+\".pickle\",\"wb\"))\n",
    "temp=[]\n",
    "for faltu in result:\n",
    "    for ipv4 in result[faltu]:\n",
    "         temp.append(ipv4)\n",
    "         print(result[faltu][ipv4][datamap[\"fport\"]],result[faltu][ipv4][datamap[\"index\"]])\n",
    "print(set(temp))"
   ]
  },
  {
   "cell_type": "code",
   "execution_count": 6,
   "metadata": {},
   "outputs": [
    {
     "name": "stdout",
     "output_type": "stream",
     "text": [
      "172.16.68.29 00-04 [1423000, 'up', 'echo-reply', 254.0, None, None, None, None, 2, None, None, None, None, 34366.0, 20296.0, 115550.0, '21', 'tcp', 65.53]\n",
      "172.16.68.29 04-08 [867000, 'up', 'echo-reply', 254.0, None, None, None, None, 2, None, None, None, None, 3576.0, 2823.0, 100000.0, '1720', 'tcp', 6.45]\n",
      "172.16.68.29 08-12 [1031000, 'up', 'echo-reply', 254.0, None, None, None, None, 2, None, None, None, None, 2881.0, 1629.0, 100000.0, '113', 'tcp', 7.96]\n",
      "172.16.68.29 12-16 [1082000, 'up', 'echo-reply', 254.0, None, None, None, None, 2, None, None, None, None, 2617.0, 2942.0, 100000.0, '3389', 'tcp', 1.67]\n",
      "172.16.68.29 16-20 [915000, 'up', 'echo-reply', 254.0, None, None, None, None, 2, None, None, None, None, 10009.0, 5672.0, 100000.0, '1025', 'tcp', 12.309999999999999]\n",
      "172.16.68.29 20-00 [800000, 'up', 'echo-reply', 254.0, None, None, None, None, 2, None, None, None, None, 1401.0, 908.0, 100000.0, '111', 'tcp', 6.68]\n"
     ]
    }
   ],
   "source": [
    "result=filter_by(0,filterant=\"reason_ttl\",value=254)"
   ]
  },
  {
   "cell_type": "code",
   "execution_count": 7,
   "metadata": {},
   "outputs": [
    {
     "data": {
      "text/plain": [
       "{'diff': 10,\n",
       " 'fport': 7,\n",
       " 'hname': 4,\n",
       " 'hopnum': 8,\n",
       " 'index': 9,\n",
       " 'ipidclass': 11,\n",
       " 'lastboot': 6,\n",
       " 'port': 16,\n",
       " 'proto': 17,\n",
       " 'reason': 2,\n",
       " 'reason_ttl': 3,\n",
       " 'rtt': 18,\n",
       " 'rttvar': 14,\n",
       " 'scantime': 0,\n",
       " 'srtt': 13,\n",
       " 'state': 1,\n",
       " 'to': 15,\n",
       " 'tsclass': 12,\n",
       " 'uptime': 5}"
      ]
     },
     "execution_count": 7,
     "metadata": {},
     "output_type": "execute_result"
    }
   ],
   "source": [
    "datamap"
   ]
  },
  {
   "cell_type": "code",
   "execution_count": 42,
   "metadata": {},
   "outputs": [
    {
     "name": "stdout",
     "output_type": "stream",
     "text": [
      "1000 None\n",
      "None 253\n",
      "None None\n",
      "1000 None\n",
      "1000 None\n",
      "None 252\n",
      "None None\n",
      "1000 None\n",
      "1000 None\n",
      "None 256\n",
      "None None\n",
      "1000 None\n",
      "1000 None\n",
      "None None\n",
      "None None\n",
      "1000 None\n",
      "1000 None\n",
      "None 256\n",
      "None None\n",
      "1000 None\n",
      "1000 None\n",
      "None 250\n",
      "None None\n",
      "1000 None\n",
      "{'172.16.68.22', '172.16.68.19', '172.16.68.21', '172.16.68.29'}\n"
     ]
    }
   ],
   "source": [
    "# None IPID\n",
    "# (0,filterant=\"ipidclass\",value=None)\n",
    "result=filter_by(0,ip=['172.16.68.22', '172.16.68.21', '172.16.68.19', '172.16.68.29'])\n",
    "\n",
    "for p,fname in zip(picklename,filename): \n",
    "    pickle.dump(result[fname],open(\"Pickles/NoneIPID/\"+str(p)+\".pickle\",\"wb\"))\n",
    "temp=[]\n",
    "for faltu in result:\n",
    "    for ipv4 in result[faltu]:\n",
    "         temp.append(ipv4)\n",
    "         print(result[faltu][ipv4][datamap[\"fport\"]],result[faltu][ipv4][datamap[\"index\"]])\n",
    "print(set(temp))"
   ]
  },
  {
   "cell_type": "code",
   "execution_count": null,
   "metadata": {
    "collapsed": true
   },
   "outputs": [],
   "source": []
  }
 ],
 "metadata": {
  "kernelspec": {
   "display_name": "Python 3",
   "language": "python",
   "name": "python3"
  },
  "language_info": {
   "codemirror_mode": {
    "name": "ipython",
    "version": 3
   },
   "file_extension": ".py",
   "mimetype": "text/x-python",
   "name": "python",
   "nbconvert_exporter": "python",
   "pygments_lexer": "ipython3",
   "version": "3.5.2"
  }
 },
 "nbformat": 4,
 "nbformat_minor": 2
}
